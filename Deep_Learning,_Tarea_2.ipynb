{
  "nbformat": 4,
  "nbformat_minor": 0,
  "metadata": {
    "colab": {
      "provenance": [],
      "include_colab_link": true
    },
    "kernelspec": {
      "name": "python3",
      "display_name": "Python 3"
    },
    "language_info": {
      "name": "python"
    }
  },
  "cells": [
    {
      "cell_type": "markdown",
      "metadata": {
        "id": "view-in-github",
        "colab_type": "text"
      },
      "source": [
        "<a href=\"https://colab.research.google.com/github/Quirrod/Algoritmo-Cubo-Rubik-3x3/blob/main/Deep_Learning%2C_Tarea_2.ipynb\" target=\"_parent\"><img src=\"https://colab.research.google.com/assets/colab-badge.svg\" alt=\"Open In Colab\"/></a>"
      ]
    },
    {
      "cell_type": "markdown",
      "source": [
        "## **Instrucciones**\n",
        "* Antes de iniciar debe hacer una copia del notebook (Archivo > Guardar una copia en Drive).\n",
        "* Una vez finalizada la tarea debe descargar el notebook (Archivo > Descargar > Descargar .ipynb) y subir el archivo a la sección correspondiente de la tarea en Classroom.\n",
        "* La tarea esta basada en lo visto en la clase \"GPU y DL Frameworks\".\n",
        "* Para realizar la tarea debe haber visto las clases: \"Deep Computer Vision 1\", \"Deep Computer Vision 2\", \"Deep Generative Modeling\" y \"GPU y DL Frameworks\".\n",
        "* Las clases mencionadas se encuentran en las siguientes secciones en Classroom:\n",
        "<ul>\n",
        "<li>Módulo 2, Deep Computer Vision: Clases \"Deep Computer Vision 1\", \"Deep Computer Vision 2\", \"Deep Generative Modeling\"</li>\n",
        "<li>Módulo X, Proyecto de Inteligencia Artificial: Clase \"GPU y DL Frameworks\"</li>\n",
        "</ul>\n",
        "\n",
        "\n",
        "\n",
        "* La fecha limite de entrega es el Lunes 16 de septiembre a horas 23:59 UTC-4.\n",
        "* El proyecto debe ser realizado en equipos, los equipos están definidos en: https://drive.google.com/file/d/1wRgkPoAGfZEPXwbpRJxO5T2cU00KwM0P/view (también esta en Classroom, en la sección de \"Módulo X, Proyecto de Inteligencia Artificial\").\n",
        "* Solo debe enviar la tarea un integrante del equipo.\n"
      ],
      "metadata": {
        "id": "Qc5HfUIKMv5c"
      }
    },
    {
      "cell_type": "markdown",
      "source": [
        "# Tarea 2, Auto-encoders\n",
        "\n",
        "\n",
        "## Descripción:\n",
        "\n",
        "Reimplementación del autoencoder:\n",
        "<ul>\n",
        "        \n",
        "<li> Crearás un modelo de autoencoder en PyTorch que constará de dos partes principales:</li>\n",
        "<ul>\n",
        "<li>Codificador (encoder): Transforma la imagen de entrada en una representación compacta o \"codificada\".</li>\n",
        "<li>Decodificador (decoder): Reconstruye la imagen original a partir de esa representación codificada.</li>\n",
        "</ul>\n",
        "El modelo se entrenará con un dataset de imágenes para que aprenda a reconstruirlas con la mayor precisión posible.\n",
        "\n",
        "<li>Sistema de búsqueda de imágenes:</li>\n",
        "<ul>\n",
        "<li>Implementarás un script que, dado una imagen de entrada del dataset, buscará y devolverá imágenes similares.</li>\n",
        "<li>Esto se logra al comparar las representaciones codificadas de las imágenes (generadas por el encoder). Las imágenes con representaciones codificadas similares se considerarán parecidas.</li>\n",
        "</ul>\n",
        "\n",
        "</ul>\n",
        "\n",
        "\n",
        "## Objetivo:\n",
        "\n",
        "El objetivo de esta tarea es construir un sistema de búsqueda de imágenes basado en características aprendidas automáticamente, utilizando el autoencoder como método para obtener representaciones compactas de las imágenes. Esto puede ser útil en sistemas de recomendación de imágenes, detección de patrones o reducción de dimensionalidad."
      ],
      "metadata": {
        "id": "Nn3eoo_0OnQL"
      }
    },
    {
      "cell_type": "markdown",
      "source": [
        "### 1.- Revisar el código y grabación de la clase \"GPU y DL Frameworks\"\n",
        "\n",
        "\n",
        "*   Grabación: https://drive.google.com/file/d/1UPO-qwhfLHM66QTLaUXTa1jg7M4PIm4E/view?usp=sharing\n",
        "\n",
        "*   Notebook base: https://drive.google.com/file/d/1v14JTUIOdBcE_ycXAKoyrgo9Gm3XQ4is/view?usp=sharing\n",
        "\n",
        "* Carpeta de recursos de la clase: https://drive.google.com/drive/folders/10LLtS006S-qSdbd3RqlyJVdAuxj5VbIg?usp=sharing\n",
        "\n",
        "\n",
        "(Estos recursos tambien están disponibles en Classroom)\n"
      ],
      "metadata": {
        "id": "VxZxzDeIQOmN"
      }
    },
    {
      "cell_type": "markdown",
      "source": [
        "### 2.- Reimplementar el autoencoder (del Notebook base de la clase \"GPU y DL Frameworks\") en PyTorch."
      ],
      "metadata": {
        "id": "fnnzfW3MREsN"
      }
    },
    {
      "cell_type": "code",
      "source": [],
      "metadata": {
        "id": "dkH8-klPRDlC"
      },
      "execution_count": null,
      "outputs": []
    },
    {
      "cell_type": "markdown",
      "source": [
        "### 3.- Implementar un script que reciba una imagen del dataset y responda con imágenes similares. (Crearás tu sistema de búsqueda de imágenes)\n",
        "\n",
        "**Nota:** puedes mejorar el rendimiento incrementando la dimensión del espacio latente, en este caso usamos 3 con el fin de graficar, pero perdemos mucha información."
      ],
      "metadata": {
        "id": "6FjkjCXNRPiy"
      }
    },
    {
      "cell_type": "code",
      "source": [],
      "metadata": {
        "id": "esMmBGZtM0my"
      },
      "execution_count": null,
      "outputs": []
    }
  ]
}